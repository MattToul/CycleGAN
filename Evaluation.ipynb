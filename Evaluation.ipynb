{
 "cells": [
  {
   "cell_type": "markdown",
   "metadata": {},
   "source": [
    "# Segmentation metrics evaluation\n",
    "\n",
    "<ul>\n",
    "    <li>Per Pixel Accuracy</li>\n",
    "    <li>Per Class Accuracy</li>\n",
    "    <li>Intersection over Union</li>\n",
    "</ul>\n"
   ]
  },
  {
   "cell_type": "code",
   "execution_count": 2,
   "metadata": {},
   "outputs": [],
   "source": [
    "import os\n",
    "import numpy as np\n",
    "from skimage.io import imread\n",
    "import matplotlib.pyplot as plt\n",
    "from FCN.citydataset import classes_city"
   ]
  },
  {
   "cell_type": "code",
   "execution_count": 4,
   "metadata": {},
   "outputs": [],
   "source": [
    "maps_classes = np.array([\n",
    "    [255,255,251],\n",
    "    [203,222,174],\n",
    "    [171,208,251],\n",
    "    [231,229,224],\n",
    "    [243,239,235],\n",
    "    [255,150,63]\n",
    "])\n",
    "\n",
    "facades_classes = np.array([\n",
    "    [255,154,47],\n",
    "    [194,0,47],\n",
    "    [0,56,248],\n",
    "    [252,766,30],\n",
    "    [0,247,238],\n",
    "    [0,129,249],\n",
    "    [101,255,160],\n",
    "    [197,2533,90],\n",
    "    [0,24,215]\n",
    "])"
   ]
  },
  {
   "cell_type": "code",
   "execution_count": 5,
   "metadata": {},
   "outputs": [],
   "source": [
    "N = lambda i,j,truth, pred: np.sum(np.multiply(truth==i, pred==j))\n",
    "T = lambda i, truth: np.sum(truth==i)\n",
    "\n",
    "def PerPixelAccuracy(truth, pred, classes=maps_classes):\n",
    "    num = np.sum([N(i,i,truth,pred) for i in range(len(classes))])\n",
    "    den = np.sum([T(i,truth) for i in range(len(classes))])\n",
    "    return num*1.0/den\n",
    "\n",
    "def MeanAccuracy(truth, pred, classes=maps_classes):\n",
    "    return np.sum([N(i,i,truth,pred)*1.0/(T(i,truth)+1e-15) for i in range(len(classes))])*1.0/(len(classes))\n",
    "\n",
    "\n",
    "def MeanIU(truth, pred, classes=maps_classes):\n",
    "    coef = np.sum([N(i,i,truth,pred)\\\n",
    "                   /(1e-15+T(i,truth)-N(i,i,truth, pred)\\\n",
    "                     +np.sum([N(j,i,truth,pred) for j in range(len(classes))]))\\\n",
    "                   for i in range(len(classes))])\n",
    "    return coef*1.0/(len(classes))\n",
    "\n",
    "def classif_score(idx,folder_model,fake_b,real_b, classes = maps_classes):\n",
    "    F = lambda im: os.path.join(folder_model,fake_b[im])\n",
    "    R = lambda im: os.path.join(folder_model,fake_b[im].replace('fake','real'))\n",
    "    f = imread(F(idx)).reshape(-1,3)\n",
    "    r = imread(R(idx)).reshape(-1,3)\n",
    "    def find_cluster(vec, classes=classes):\n",
    "        rscores = np.zeros((256*256,len(classes)))\n",
    "        for i in range(len(classes)):\n",
    "            rscores[:,i] = np.linalg.norm(vec-np.repeat(classes[i].reshape(1,3),256*256,axis = 0), axis = 1)\n",
    "        vc = np.argmin(rscores, axis = 1)\n",
    "        return vc\n",
    "    pred = find_cluster(f)\n",
    "    truth = find_cluster(r)\n",
    "    ppa = PerPixelAccuracy(truth=truth,pred=pred, classes=classes),\n",
    "    ma = MeanAccuracy(truth=truth,pred=pred, classes=classes),\n",
    "    miu = MeanIU(truth=truth,pred=pred, classes=classes),\n",
    "    return np.array([ppa, ma, miu]).reshape(1,3)"
   ]
  },
  {
   "cell_type": "code",
   "execution_count": 6,
   "metadata": {},
   "outputs": [],
   "source": [
    "def Eval(model, classes):\n",
    "    folder_model = r\"results/{}/test_latest/images/\".format(model)\n",
    "    \n",
    "    fake_b = sorted(list(filter(lambda x: 'fake_B' in x, os.listdir(folder_model))))\n",
    "    real_b = sorted(list(filter(lambda x: 'real_B' in x, os.listdir(folder_model))))\n",
    "    \n",
    "    results = np.vstack((classif_score(idx,folder_model,fake_b,real_b,classes=classes) for idx in range(len(fake_b))))\n",
    "    metrics = ['PerPixelAccuracy', 'MeanAccuracy','MeanIU']\n",
    "    return dict(zip(metrics,results.mean(axis = 0))), dict(zip(metrics,results.std(axis = 0)))"
   ]
  },
  {
   "cell_type": "markdown",
   "metadata": {},
   "source": [
    "## Maps <-> Aerial Photo"
   ]
  },
  {
   "cell_type": "code",
   "execution_count": 7,
   "metadata": {},
   "outputs": [
    {
     "data": {
      "text/plain": [
       "({'PerPixelAccuracy': 0.65925537109375,\n",
       "  'MeanAccuracy': 0.3657738185997323,\n",
       "  'MeanIU': 0.26727131283783256},\n",
       " {'PerPixelAccuracy': 0.13116208723265588,\n",
       "  'MeanAccuracy': 0.05745705406288182,\n",
       "  'MeanIU': 0.059864040411428454})"
      ]
     },
     "execution_count": 7,
     "metadata": {},
     "output_type": "execute_result"
    }
   ],
   "source": [
    "Eval(\"maps_cyclegan\", classes = maps_classes)"
   ]
  },
  {
   "cell_type": "code",
   "execution_count": 8,
   "metadata": {},
   "outputs": [
    {
     "data": {
      "text/plain": [
       "({'PerPixelAccuracy': 0.6366470336914063,\n",
       "  'MeanAccuracy': 0.34263235736806297,\n",
       "  'MeanIU': 0.24193643097026268},\n",
       " {'PerPixelAccuracy': 0.13789364411105787,\n",
       "  'MeanAccuracy': 0.04650520926674163,\n",
       "  'MeanIU': 0.05943920037964254})"
      ]
     },
     "execution_count": 8,
     "metadata": {},
     "output_type": "execute_result"
    }
   ],
   "source": [
    "Eval(\"maps_cyclegan_sn\", classes = maps_classes)"
   ]
  },
  {
   "cell_type": "code",
   "execution_count": 9,
   "metadata": {
    "scrolled": true
   },
   "outputs": [
    {
     "data": {
      "text/plain": [
       "({'PerPixelAccuracy': 0.47609405517578124,\n",
       "  'MeanAccuracy': 0.20456466436887275,\n",
       "  'MeanIU': 0.12403574672476622},\n",
       " {'PerPixelAccuracy': 0.08503779849375542,\n",
       "  'MeanAccuracy': 0.021947402156263413,\n",
       "  'MeanIU': 0.02170079132551184})"
      ]
     },
     "execution_count": 9,
     "metadata": {},
     "output_type": "execute_result"
    }
   ],
   "source": [
    "Eval(\"maps_cyclegan_wgangp\", classes = maps_classes)"
   ]
  },
  {
   "cell_type": "markdown",
   "metadata": {},
   "source": [
    "## Façades"
   ]
  },
  {
   "cell_type": "code",
   "execution_count": 10,
   "metadata": {},
   "outputs": [
    {
     "data": {
      "text/plain": [
       "({'PerPixelAccuracy': 0.2937838745117187,\n",
       "  'MeanAccuracy': 0.15467122617863158,\n",
       "  'MeanIU': 0.08586958203181137},\n",
       " {'PerPixelAccuracy': 0.12346242577135777,\n",
       "  'MeanAccuracy': 0.04772577980802215,\n",
       "  'MeanIU': 0.033463657767945666})"
      ]
     },
     "execution_count": 10,
     "metadata": {},
     "output_type": "execute_result"
    }
   ],
   "source": [
    "Eval(\"facades_cyclegan\", classes = facades_classes)"
   ]
  },
  {
   "cell_type": "code",
   "execution_count": 11,
   "metadata": {},
   "outputs": [
    {
     "data": {
      "text/plain": [
       "({'PerPixelAccuracy': 0.21249053955078126,\n",
       "  'MeanAccuracy': 0.10819630133606947,\n",
       "  'MeanIU': 0.05724362417167473},\n",
       " {'PerPixelAccuracy': 0.09118839294120668,\n",
       "  'MeanAccuracy': 0.03377176683613442,\n",
       "  'MeanIU': 0.020359784478120084})"
      ]
     },
     "execution_count": 11,
     "metadata": {},
     "output_type": "execute_result"
    }
   ],
   "source": [
    "Eval(\"facades_cyclegan_sn\", classes = facades_classes)"
   ]
  },
  {
   "cell_type": "code",
   "execution_count": 12,
   "metadata": {},
   "outputs": [
    {
     "data": {
      "text/plain": [
       "({'PerPixelAccuracy': 0.23826690673828124,\n",
       "  'MeanAccuracy': 0.13977146016789235,\n",
       "  'MeanIU': 0.06841433039960275},\n",
       " {'PerPixelAccuracy': 0.07565204451374208,\n",
       "  'MeanAccuracy': 0.032118218510339386,\n",
       "  'MeanIU': 0.020692653008087075})"
      ]
     },
     "execution_count": 12,
     "metadata": {},
     "output_type": "execute_result"
    }
   ],
   "source": [
    "Eval(\"facades_cyclegan_wgan_gp\", classes = facades_classes)"
   ]
  },
  {
   "cell_type": "markdown",
   "metadata": {},
   "source": [
    "## CityScapes"
   ]
  },
  {
   "cell_type": "code",
   "execution_count": 13,
   "metadata": {},
   "outputs": [],
   "source": [
    "file = r\"datasets/cityscapes/testB/100_B.jpg\""
   ]
  },
  {
   "cell_type": "code",
   "execution_count": 14,
   "metadata": {},
   "outputs": [
    {
     "data": {
      "text/plain": [
       "({'PerPixelAccuracy': 0.5474249267578125,\n",
       "  'MeanAccuracy': 0.1890281816354468,\n",
       "  'MeanIU': 0.13021065980625898},\n",
       " {'PerPixelAccuracy': 0.0850494451540961,\n",
       "  'MeanAccuracy': 0.031338250596741134,\n",
       "  'MeanIU': 0.024629139900385264})"
      ]
     },
     "execution_count": 14,
     "metadata": {},
     "output_type": "execute_result"
    }
   ],
   "source": [
    "Eval(\"cityscapes_cyclegan\", classes = classes_city)"
   ]
  },
  {
   "cell_type": "code",
   "execution_count": 15,
   "metadata": {},
   "outputs": [
    {
     "data": {
      "text/plain": [
       "({'PerPixelAccuracy': 0.533218994140625,\n",
       "  'MeanAccuracy': 0.1823593079982619,\n",
       "  'MeanIU': 0.12117730109861173},\n",
       " {'PerPixelAccuracy': 0.08950081338900766,\n",
       "  'MeanAccuracy': 0.03357061966228876,\n",
       "  'MeanIU': 0.025711568382825872})"
      ]
     },
     "execution_count": 15,
     "metadata": {},
     "output_type": "execute_result"
    }
   ],
   "source": [
    "Eval(\"cityscapes_cyclegan_sn\", classes = classes_city)"
   ]
  },
  {
   "cell_type": "code",
   "execution_count": 16,
   "metadata": {},
   "outputs": [
    {
     "data": {
      "text/plain": [
       "({'PerPixelAccuracy': 0.4925592041015625,\n",
       "  'MeanAccuracy': 0.13448065287914016,\n",
       "  'MeanIU': 0.08848661403506419},\n",
       " {'PerPixelAccuracy': 0.07864055538098615,\n",
       "  'MeanAccuracy': 0.01830047264505408,\n",
       "  'MeanIU': 0.012299909018102231})"
      ]
     },
     "execution_count": 16,
     "metadata": {},
     "output_type": "execute_result"
    }
   ],
   "source": [
    "Eval(\"cityscapes_cyclegan_wgan_gp\", classes = classes_city)"
   ]
  }
 ],
 "metadata": {
  "kernelspec": {
   "display_name": "Python 3",
   "language": "python",
   "name": "python3"
  },
  "language_info": {
   "codemirror_mode": {
    "name": "ipython",
    "version": 3
   },
   "file_extension": ".py",
   "mimetype": "text/x-python",
   "name": "python",
   "nbconvert_exporter": "python",
   "pygments_lexer": "ipython3",
   "version": "3.6.5"
  }
 },
 "nbformat": 4,
 "nbformat_minor": 2
}
